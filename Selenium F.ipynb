{
 "cells": [
  {
   "cell_type": "markdown",
   "metadata": {},
   "source": [
    "# SELENIUM\n",
    "## RPA - AUTOMACAO DE CLIQUE EM LINK PÚBLICO\n",
    "### Fonte de dados: tse.jus.br"
   ]
  },
  {
   "cell_type": "code",
   "execution_count": 1,
   "metadata": {},
   "outputs": [],
   "source": [
    "from selenium import webdriver\n",
    "from selenium.webdriver.common.by import By\n",
    "from selenium.webdriver.support.ui import WebDriverWait\n",
    "from selenium.webdriver.support import expected_conditions as EC\n",
    "import time\n",
    "from bs4 import BeautifulSoup\n",
    "from urllib.request import urlopen"
   ]
  },
  {
   "cell_type": "code",
   "execution_count": 2,
   "metadata": {},
   "outputs": [],
   "source": [
    "from selenium.webdriver.chrome.options import Options\n",
    "import os\n",
    "import sys"
   ]
  },
  {
   "cell_type": "code",
   "execution_count": 3,
   "metadata": {},
   "outputs": [],
   "source": [
    "def enable_download_headless(browser, download_dir):\n",
    "    browser.command_executor._commands[\"send_command\"] = (\"POST\", '/session/$sessionId/chromium/send_command')\n",
    "    params = {'cmd':'Page.setDownloadBehavior', 'params':{'behavior':'allow','downloadPath': download_dir}}\n",
    "    browser.execute(\"send_command\", params)"
   ]
  },
  {
   "cell_type": "code",
   "execution_count": 16,
   "metadata": {},
   "outputs": [],
   "source": [
    "def download(url, seletorHtml, tam_arquivoRemoto, endereco_arquivoLocal):\n",
    "    chrome_options = Options()\n",
    "    chrome_options.add_argument(\"--headless\")\n",
    "    chrome_options.add_experimental_option(\"prefs\", {\n",
    "            \"download.default_directory\": \"c:\\TESTE\",\n",
    "            \"download.prompt_for_download\":  True,\n",
    "            \"download.directory_upgrade\": True,\n",
    "            \"safebrowsing_for_trusted_sources_enabled\": False,\n",
    "            \"safebrowsing.enabled\": True\n",
    "    })\n",
    "    chrome_options.add_argument('--disable-gpu')\n",
    "    chrome_options.add_argument('--disable-software-rasterizer')\n",
    "\n",
    "    driver = webdriver.Chrome(executable_path=\"c:/bigdata/chromedriver.exe\", options = chrome_options)\n",
    "    download_dir = \"c:\\TESTE\"\n",
    "    enable_download_headless(driver, download_dir)\n",
    "    \n",
    "    #driver.implicitly_wait(200)\n",
    "    driver.get(url)\n",
    "    time.sleep(5)\n",
    "    search_input = driver.find_element_by_xpath(seletorHtml)\n",
    "    tam_ArqLocal = os.stat(endereco_arquivoLocal).st_size\n",
    "    if search_input:    \n",
    "        try:\n",
    "            print('Elemento capturado >>>>> ', search_input.text)\n",
    "            print('TAMANHO DO ARQUIVO: ',tam_arquivoRemoto)\n",
    "            search_input.click()\n",
    "            while tam_arquivoRemoto != tam_ArqLocal:\n",
    "                print('downloading...')\n",
    "                print('Remoto ',tam_arquivoRemoto,' / Local', tam_ArqLocal)\n",
    "            print('Ok, download realizado com sucesso!')\n",
    "        except:\n",
    "            print('erro')\n",
    "    \n",
    "    return search_input\n",
    "\n",
    "    "
   ]
  },
  {
   "cell_type": "raw",
   "metadata": {},
   "source": [
    "# Xpath: //*[@id=\"conteudo\"]/div[4]/p[1] \n",
    "# download('https://www.tse.jus.br/hotsites/pesquisas-eleitorais/candidatos_anos/2016.html', \n",
    "# '//[@id=\"conteudo\"]/div[4]/p[1]/a')"
   ]
  },
  {
   "cell_type": "code",
   "execution_count": 17,
   "metadata": {},
   "outputs": [],
   "source": [
    "url = 'https://www.tse.jus.br/hotsites/pesquisas-eleitorais/candidatos.html'\n",
    "html = urlopen(url)\n",
    "soup = BeautifulSoup(html, 'html.parser')"
   ]
  },
  {
   "cell_type": "markdown",
   "metadata": {},
   "source": [
    "## so pegar de 2010 em diante"
   ]
  },
  {
   "cell_type": "raw",
   "metadata": {},
   "source": [
    "## Criar com o beatiful soup anos como abaixo: \n",
    "## ['2010', '2012', '2014', '2016', '2018', '2020']"
   ]
  },
  {
   "cell_type": "code",
   "execution_count": 18,
   "metadata": {},
   "outputs": [],
   "source": [
    "anos = []\n",
    "for i in soup.findAll('li', class_='span-4'):\n",
    "    ano = i.find('a').getText()\n",
    "    if int(ano) >= 2010:\n",
    "        anos.append(ano)"
   ]
  },
  {
   "cell_type": "code",
   "execution_count": 19,
   "metadata": {},
   "outputs": [],
   "source": [
    "url_download = 'https://www.tse.jus.br/hotsites/pesquisas-eleitorais/candidatos_anos/'\n",
    "url_zip = 'http://agencia.tse.jus.br/estatistica/sead/odsele/consulta_cand/consulta_cand_'\n",
    "Xpath = lambda x : '//*[@id=\"conteudo\"]/div[4]/p[1]/a' if x is not None else '//*[@id=\"conteudo\"]/div[4]/p[2]/a'"
   ]
  },
  {
   "cell_type": "code",
   "execution_count": 20,
   "metadata": {},
   "outputs": [],
   "source": [
    "def varredura(x):\n",
    "    url = x\n",
    "    html = urlopen(url)\n",
    "    soup = BeautifulSoup(html, 'html.parser')\n",
    "    return Xpath(soup.find('p').find('a'))\n",
    "\n",
    "def calcTamArquivo(nomeArquivo, ano):\n",
    "    urlZip = '{}{}.zip'.format(nomeArquivo, ano)\n",
    "    x = urlopen(urlZip)\n",
    "    tam = x.info()['Content-length']\n",
    "    return tam\n",
    "\n",
    "def nomeArqLocal(nomeArquivo, ano):\n",
    "    arqLocal = '{}{}.zip'.format(nomeArquivo, ano)\n",
    "    nomeArqLocal = 'C:/TESTE/' + arqLocal.split('/')[-1]\n",
    "    return nomeArqLocal\n",
    "    "
   ]
  },
  {
   "cell_type": "code",
   "execution_count": 21,
   "metadata": {},
   "outputs": [
    {
     "ename": "FileNotFoundError",
     "evalue": "[WinError 2] O sistema não pode encontrar o arquivo especificado: 'C:/TESTE/consulta_cand_2010.zip'",
     "output_type": "error",
     "traceback": [
      "\u001b[1;31m---------------------------------------------------------------------------\u001b[0m",
      "\u001b[1;31mFileNotFoundError\u001b[0m                         Traceback (most recent call last)",
      "\u001b[1;32m<ipython-input-21-271937f4bd0e>\u001b[0m in \u001b[0;36m<module>\u001b[1;34m\u001b[0m\n\u001b[0;32m      1\u001b[0m \u001b[1;32mfor\u001b[0m \u001b[0mano\u001b[0m \u001b[1;32min\u001b[0m \u001b[0manos\u001b[0m\u001b[1;33m:\u001b[0m\u001b[1;33m\u001b[0m\u001b[1;33m\u001b[0m\u001b[0m\n\u001b[0;32m      2\u001b[0m     \u001b[0murl\u001b[0m \u001b[1;33m=\u001b[0m \u001b[1;34m'{}{}.html'\u001b[0m\u001b[1;33m.\u001b[0m\u001b[0mformat\u001b[0m\u001b[1;33m(\u001b[0m\u001b[0murl_download\u001b[0m\u001b[1;33m,\u001b[0m \u001b[0mano\u001b[0m\u001b[1;33m)\u001b[0m\u001b[1;33m\u001b[0m\u001b[1;33m\u001b[0m\u001b[0m\n\u001b[1;32m----> 3\u001b[1;33m     \u001b[0mdownload\u001b[0m\u001b[1;33m(\u001b[0m\u001b[0murl\u001b[0m\u001b[1;33m,\u001b[0m \u001b[0mvarredura\u001b[0m\u001b[1;33m(\u001b[0m\u001b[0murl\u001b[0m\u001b[1;33m)\u001b[0m\u001b[1;33m,\u001b[0m \u001b[0mcalcTamArquivo\u001b[0m\u001b[1;33m(\u001b[0m\u001b[0murl_zip\u001b[0m\u001b[1;33m,\u001b[0m \u001b[0mano\u001b[0m\u001b[1;33m)\u001b[0m\u001b[1;33m,\u001b[0m \u001b[0mnomeArqLocal\u001b[0m\u001b[1;33m(\u001b[0m\u001b[0murl_zip\u001b[0m\u001b[1;33m,\u001b[0m \u001b[0mano\u001b[0m\u001b[1;33m)\u001b[0m\u001b[1;33m)\u001b[0m\u001b[1;33m\u001b[0m\u001b[1;33m\u001b[0m\u001b[0m\n\u001b[0m",
      "\u001b[1;32m<ipython-input-16-c0e115dc800a>\u001b[0m in \u001b[0;36mdownload\u001b[1;34m(url, seletorHtml, tam_arquivoRemoto, endereco_arquivoLocal)\u001b[0m\n\u001b[0;32m     20\u001b[0m     \u001b[0mtime\u001b[0m\u001b[1;33m.\u001b[0m\u001b[0msleep\u001b[0m\u001b[1;33m(\u001b[0m\u001b[1;36m5\u001b[0m\u001b[1;33m)\u001b[0m\u001b[1;33m\u001b[0m\u001b[1;33m\u001b[0m\u001b[0m\n\u001b[0;32m     21\u001b[0m     \u001b[0msearch_input\u001b[0m \u001b[1;33m=\u001b[0m \u001b[0mdriver\u001b[0m\u001b[1;33m.\u001b[0m\u001b[0mfind_element_by_xpath\u001b[0m\u001b[1;33m(\u001b[0m\u001b[0mseletorHtml\u001b[0m\u001b[1;33m)\u001b[0m\u001b[1;33m\u001b[0m\u001b[1;33m\u001b[0m\u001b[0m\n\u001b[1;32m---> 22\u001b[1;33m     \u001b[0mtam_ArqLocal\u001b[0m \u001b[1;33m=\u001b[0m \u001b[0mos\u001b[0m\u001b[1;33m.\u001b[0m\u001b[0mstat\u001b[0m\u001b[1;33m(\u001b[0m\u001b[0mendereco_arquivoLocal\u001b[0m\u001b[1;33m)\u001b[0m\u001b[1;33m.\u001b[0m\u001b[0mst_size\u001b[0m\u001b[1;33m\u001b[0m\u001b[1;33m\u001b[0m\u001b[0m\n\u001b[0m\u001b[0;32m     23\u001b[0m     \u001b[1;32mif\u001b[0m \u001b[0msearch_input\u001b[0m\u001b[1;33m:\u001b[0m\u001b[1;33m\u001b[0m\u001b[1;33m\u001b[0m\u001b[0m\n\u001b[0;32m     24\u001b[0m         \u001b[1;32mtry\u001b[0m\u001b[1;33m:\u001b[0m\u001b[1;33m\u001b[0m\u001b[1;33m\u001b[0m\u001b[0m\n",
      "\u001b[1;31mFileNotFoundError\u001b[0m: [WinError 2] O sistema não pode encontrar o arquivo especificado: 'C:/TESTE/consulta_cand_2010.zip'"
     ]
    }
   ],
   "source": [
    "for ano in anos:\n",
    "    url = '{}{}.html'.format(url_download, ano)\n",
    "    download(url, varredura(url), calcTamArquivo(url_zip, ano), nomeArqLocal(url_zip, ano))    "
   ]
  },
  {
   "cell_type": "code",
   "execution_count": 16,
   "metadata": {},
   "outputs": [
    {
     "name": "stdout",
     "output_type": "stream",
     "text": [
      "C:/TESTE/consulta_cand_2012.zip\n"
     ]
    }
   ],
   "source": [
    "print(nomeArqLocal(url_zip, '2012'))"
   ]
  }
 ],
 "metadata": {
  "kernelspec": {
   "display_name": "Python 3",
   "language": "python",
   "name": "python3"
  },
  "language_info": {
   "codemirror_mode": {
    "name": "ipython",
    "version": 3
   },
   "file_extension": ".py",
   "mimetype": "text/x-python",
   "name": "python",
   "nbconvert_exporter": "python",
   "pygments_lexer": "ipython3",
   "version": "3.8.3"
  }
 },
 "nbformat": 4,
 "nbformat_minor": 4
}
