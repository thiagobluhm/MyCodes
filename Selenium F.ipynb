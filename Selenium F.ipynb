{
 "cells": [
  {
   "cell_type": "markdown",
   "metadata": {},
   "source": [
    "# SELENIUM\n",
    "## RPA - AUTOMACAO DE CLIQUE EM LINK PÚBLICO\n",
    "### <italic>Fonte de dados: tse.jus.br</italic>"
   ]
  },
  {
   "cell_type": "code",
   "execution_count": 35,
   "metadata": {},
   "outputs": [],
   "source": [
    "from selenium import webdriver\n",
    "from selenium.webdriver.common.by import By\n",
    "from selenium.webdriver.support.ui import WebDriverWait\n",
    "from selenium.webdriver.support import expected_conditions as EC\n",
    "import time\n",
    "from bs4 import BeautifulSoup\n",
    "from urllib.request import urlopen"
   ]
  },
  {
   "cell_type": "code",
   "execution_count": 33,
   "metadata": {},
   "outputs": [],
   "source": [
    "from selenium.webdriver.chrome.options import Options\n",
    "import os\n",
    "import sys\n",
    "import os.path"
   ]
  },
  {
   "cell_type": "markdown",
   "metadata": {},
   "source": [
    "### Configurando o navegador para download:"
   ]
  },
  {
   "cell_type": "code",
   "execution_count": 32,
   "metadata": {},
   "outputs": [],
   "source": [
    "def download_sem_cabecalho(browser, download_dir):\n",
    "    browser.command_executor._commands[\"send_command\"] = (\"POST\", '/session/$sessionId/chromium/send_command')\n",
    "    params = {'cmd':'Page.setDownloadBehavior', 'params':{'behavior':'allow','downloadPath': download_dir}}\n",
    "    browser.execute(\"send_command\", params)"
   ]
  },
  {
   "cell_type": "markdown",
   "metadata": {},
   "source": [
    "### Selenium Webdriver"
   ]
  },
  {
   "cell_type": "code",
   "execution_count": 53,
   "metadata": {},
   "outputs": [],
   "source": [
    "def download(url, seletorHtml):\n",
    "    chrome_options = Options()\n",
    "    chrome_options.add_argument(\"--headless\")\n",
    "    chrome_options.add_experimental_option(\"prefs\", {\n",
    "            \"download.default_directory\": \"c:\\TESTE\",\n",
    "            \"download.prompt_for_download\":  True,\n",
    "            \"download.directory_upgrade\": True,\n",
    "            \"safebrowsing_for_trusted_sources_enabled\": False,\n",
    "            # caso o navegador detecte o arquivo como malicioso, ele mantem o download\n",
    "            \"safebrowsing.enabled\": False \n",
    "    })\n",
    "    chrome_options.add_argument('--disable-gpu')\n",
    "    chrome_options.add_argument('--disable-software-rasterizer')\n",
    "\n",
    "    driver = webdriver.Chrome(executable_path=\"c:/bigdata/chromedriver.exe\", options = chrome_options)\n",
    "    download_dir = \"c:\\TESTE\"\n",
    "    download_sem_cabecalho(driver, download_dir)\n",
    "    driver.get(url)\n",
    " \n",
    "    search_input = driver.find_element_by_xpath(seletorHtml)\n",
    "\n",
    "    if search_input:    \n",
    "        try:\n",
    "            search_input.click()            \n",
    "            print('Elemento capturado >>>>> ', search_input.text)\n",
    "            #print('downloading...')\n",
    "            time.sleep(3)\n",
    "                     \n",
    "        except:\n",
    "            print('erro')\n",
    "    \n",
    "    return search_input\n",
    "\n",
    "#"
   ]
  },
  {
   "cell_type": "raw",
   "metadata": {},
   "source": [
    "# anotações:\n",
    "# Xpath: //*[@id=\"conteudo\"]/div[4]/p[1] \n",
    "# download('https://www.tse.jus.br/hotsites/pesquisas-eleitorais/candidatos_anos/2016.html', \n",
    "# '//[@id=\"conteudo\"]/div[4]/p[1]/a')"
   ]
  },
  {
   "cell_type": "markdown",
   "metadata": {},
   "source": [
    "### BeautifulSoup para criar lista com anos: "
   ]
  },
  {
   "cell_type": "code",
   "execution_count": null,
   "metadata": {},
   "outputs": [],
   "source": [
    "url = 'https://www.tse.jus.br/hotsites/pesquisas-eleitorais/candidatos_anos/2016.html'\n",
    "html = urlopen(url)\n",
    "soup = BeautifulSoup(html, 'html.parser')\n",
    "soup"
   ]
  },
  {
   "cell_type": "code",
   "execution_count": null,
   "metadata": {},
   "outputs": [],
   "source": [
    "anos = []\n",
    "for i in soup.findAll('li', class_='span-4'):\n",
    "    ano = i.find('a').getText()\n",
    "    if int(ano) >= 2010:\n",
    "        anos.append(ano)"
   ]
  },
  {
   "cell_type": "markdown",
   "metadata": {},
   "source": [
    "### Slice de url's do site"
   ]
  },
  {
   "cell_type": "code",
   "execution_count": null,
   "metadata": {},
   "outputs": [],
   "source": [
    "url_download = 'https://www.tse.jus.br/hotsites/pesquisas-eleitorais/candidatos_anos/'\n",
    "url_zip = 'http://agencia.tse.jus.br/estatistica/sead/odsele/consulta_cand/consulta_cand_'\n",
    "Xpath = lambda x : '//*[@id=\"conteudo\"]/div[4]/p[1]/a' if x is not None else '//*[@id=\"conteudo\"]/div[4]/p[2]/a'"
   ]
  },
  {
   "cell_type": "markdown",
   "metadata": {},
   "source": [
    "### Funções de calculo de tamanho do arquivo e varredura"
   ]
  },
  {
   "cell_type": "code",
   "execution_count": null,
   "metadata": {},
   "outputs": [],
   "source": [
    "def varredura(x):\n",
    "    url = x\n",
    "    html = urlopen(url)\n",
    "    soup = BeautifulSoup(html, 'html.parser')\n",
    "    return Xpath(soup.find('p').find('a'))\n",
    "\n",
    "def calcTamArquivo(nomeArquivo, ano):\n",
    "    urlZip = '{}{}.zip'.format(nomeArquivo, ano)\n",
    "    x = urlopen(urlZip)\n",
    "    tam = x.info()['Content-length']\n",
    "    return tam\n",
    "\n",
    "def nomeArqLocal(nomeArquivo, ano):\n",
    "    nome_do_arquivo = '{}{}.zip'.format(nomeArquivo.split('/')[-1], ano)\n",
    "    caminho_arquivo_local = 'C:/TESTE/' + nome_do_arquivo\n",
    "    return caminho_arquivo_local"
   ]
  },
  {
   "cell_type": "markdown",
   "metadata": {},
   "source": [
    "### Loop que dispara o download automático"
   ]
  },
  {
   "cell_type": "code",
   "execution_count": null,
   "metadata": {},
   "outputs": [],
   "source": [
    "for ano in anos:\n",
    "    url = '{}{}.html'.format(url_download, ano)    \n",
    "    tam_arquivo_rem = calcTamArquivo(url_zip, ano)\n",
    "    tam_arquivo_rem = int(tam_arquivo_rem) / 1024\n",
    "    print('Tamanho do arquivo remoto: {} MBytes'.format(str(tam_arquivo_rem)))\n",
    "    download(url, varredura(url))    \n",
    "    # aguardar final de um download e começar outro\n",
    "    while not os.path.exists(nomeArqLocal(url_zip, ano)):        \n",
    "        print('baixando...')\n",
    "        time.sleep(5)\n",
    "    print('Arquivo baixado com sucesso!')\n",
    " "
   ]
  },
  {
   "cell_type": "markdown",
   "metadata": {},
   "source": [
    "### EOF"
   ]
  }
 ],
 "metadata": {
  "kernelspec": {
   "display_name": "Python 3",
   "language": "python",
   "name": "python3"
  },
  "language_info": {
   "codemirror_mode": {
    "name": "ipython",
    "version": 3
   },
   "file_extension": ".py",
   "mimetype": "text/x-python",
   "name": "python",
   "nbconvert_exporter": "python",
   "pygments_lexer": "ipython3",
   "version": "3.8.3"
  }
 },
 "nbformat": 4,
 "nbformat_minor": 4
}
